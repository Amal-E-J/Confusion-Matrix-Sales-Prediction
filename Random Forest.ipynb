{
 "cells": [
  {
   "cell_type": "markdown",
   "id": "efa4af19",
   "metadata": {},
   "source": [
    "# Feature Selection"
   ]
  },
  {
   "cell_type": "code",
   "execution_count": 53,
   "id": "2361e7fb",
   "metadata": {},
   "outputs": [
    {
     "data": {
      "text/plain": [
       "['mean',\n",
       " 'median',\n",
       " 'min',\n",
       " 'max',\n",
       " 'std',\n",
       " 'Size',\n",
       " 'Dept',\n",
       " 'Total_MarkDown',\n",
       " 'Month',\n",
       " 'Week',\n",
       " 'Temperature',\n",
       " 'Fuel_Price']"
      ]
     },
     "execution_count": 53,
     "metadata": {},
     "output_type": "execute_result"
    }
   ],
   "source": [
    "import pandas as pd\n",
    "import numpy as np\n",
    "\n",
    "train = pd.read_csv('train.csv')\n",
    "corr_matrix = train.corr()\n",
    "corr_values = corr_matrix['Weekly_Sales'].sort_values(ascending=False)\n",
    "features = corr_values[1:13].index.tolist()\n",
    "features"
   ]
  },
  {
   "cell_type": "markdown",
   "id": "3f373574",
   "metadata": {},
   "source": [
    "# Random Forest"
   ]
  },
  {
   "cell_type": "code",
   "execution_count": 54,
   "id": "5e28ed2e",
   "metadata": {},
   "outputs": [
    {
     "name": "stdout",
     "output_type": "stream",
     "text": [
      "Test set RMSE: 2394.86118759177\n"
     ]
    }
   ],
   "source": [
    "from sklearn.ensemble import RandomForestRegressor\n",
    "\n",
    "promotional_weeks = ['2019-02-12', '2020-02-11', '2021-02-10', '2019-09-10', '2020-09-09', \n",
    "                     '2021-09-07', '2019-11-26', '2020-11-25', '2019-12-31', '2020-12-30']\n",
    "train['Promotion_Week'] = [5 if d in promotional_weeks else 1 for d in train['Week']]\n",
    "\n",
    "train_data, val_data = train_test_split(train, test_size=0.2, random_state=42)\n",
    "\n",
    "X_train = train_data[features]\n",
    "y_train = train_data['Weekly_Sales']\n",
    "X_val = val_data[features]\n",
    "y_val = val_data['Weekly_Sales']\n",
    "\n",
    "model = RandomForestRegressor(n_estimators=100, random_state=42)\n",
    "model.fit(X_train, y_train)\n",
    "\n",
    "y_pred = model.predict(X_val)\n",
    "rmse = mean_squared_error(y_val, y_pred, squared=False)\n",
    "print('Test set RMSE:', rmse)\n",
    "\n"
   ]
  },
  {
   "cell_type": "markdown",
   "id": "c3e6aeeb",
   "metadata": {},
   "source": [
    "# Evaluation"
   ]
  },
  {
   "cell_type": "code",
   "execution_count": 55,
   "id": "03939f6c",
   "metadata": {},
   "outputs": [],
   "source": [
    "test = pd.read_csv('test.csv')\n",
    "test['Promotion_Week'] = [5 if d in promotional_weeks else 1 for d in test['Week']]\n",
    "test.fillna(0, inplace=True)\n",
    "\n",
    "X_test = test[features]\n",
    "\n",
    "y_test = model.predict(X_test)\n",
    "\n",
    "test['Weekly_Sales'] = y_test\n",
    "test[['id', 'Weekly_Sales']].to_csv('sample.csv', index=False)\n"
   ]
  },
  {
   "cell_type": "code",
   "execution_count": null,
   "id": "4a221318",
   "metadata": {},
   "outputs": [],
   "source": []
  }
 ],
 "metadata": {
  "kernelspec": {
   "display_name": "Python 3 (ipykernel)",
   "language": "python",
   "name": "python3"
  },
  "language_info": {
   "codemirror_mode": {
    "name": "ipython",
    "version": 3
   },
   "file_extension": ".py",
   "mimetype": "text/x-python",
   "name": "python",
   "nbconvert_exporter": "python",
   "pygments_lexer": "ipython3",
   "version": "3.9.13"
  }
 },
 "nbformat": 4,
 "nbformat_minor": 5
}
