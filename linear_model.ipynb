{
 "cells": [
  {
   "cell_type": "code",
   "execution_count": 1,
   "id": "aafe21c8",
   "metadata": {},
   "outputs": [
    {
     "name": "stdout",
     "output_type": "stream",
     "text": [
      "Validation set RMSE: 4321.279660961857\n"
     ]
    }
   ],
   "source": [
    "import pandas as pd\n",
    "from sklearn.linear_model import LinearRegression\n",
    "from sklearn.model_selection import train_test_split\n",
    "from sklearn.metrics import mean_squared_error\n",
    "\n",
    "# read train dataset\n",
    "train = pd.read_csv('train.csv')\n",
    "\n",
    "# split train dataset into training and validation sets\n",
    "train_data, val_data = train_test_split(train, test_size=0.2, random_state=42)\n",
    "\n",
    "# select relevant features\n",
    "features = [\n",
    "           'IsHoliday', \n",
    "        'Total_MarkDown', \n",
    "         'Fuel_Price', \n",
    "           'Week', \n",
    "           'Size', \n",
    "         'mean', \n",
    "           'min', \n",
    "         'CPI', \n",
    "         'Unemployment',  \n",
    "         'median', \n",
    "         'max', \n",
    "           'Year'      \n",
    "            ]\n",
    "\n",
    "# preprocess the data\n",
    "X_train = train_data[features]\n",
    "y_train = train_data['Weekly_Sales']\n",
    "X_val = val_data[features]\n",
    "y_val = val_data['Weekly_Sales']\n",
    "\n",
    "# create and train linear regression model\n",
    "model = LinearRegression()\n",
    "model.fit(X_train, y_train)\n",
    "\n",
    "# evaluate model's performance on validation set\n",
    "y_pred = model.predict(X_val)\n",
    "rmse = mean_squared_error(y_val, y_pred, squared=False)\n",
    "print('Validation set RMSE:', rmse)\n",
    "\n",
    "# read test dataset\n",
    "test = pd.read_csv('test.csv')\n",
    "\n",
    "# preprocess test dataset\n",
    "X_test = test[features]\n",
    "\n",
    "# make predictions on test dataset\n",
    "y_test = model.predict(X_test)\n",
    "\n",
    "# save predictions to file\n",
    "test['Weekly_Sales_Pred'] = y_test\n",
    "test[['id', 'Weekly_Sales_Pred']].to_csv('predictions.csv', index=False)\n"
   ]
  },
  {
   "cell_type": "code",
   "execution_count": null,
   "id": "b337c358",
   "metadata": {},
   "outputs": [],
   "source": []
  },
  {
   "cell_type": "code",
   "execution_count": null,
   "id": "573b470e",
   "metadata": {},
   "outputs": [],
   "source": []
  }
 ],
 "metadata": {
  "kernelspec": {
   "display_name": "Python 3 (ipykernel)",
   "language": "python",
   "name": "python3"
  },
  "language_info": {
   "codemirror_mode": {
    "name": "ipython",
    "version": 3
   },
   "file_extension": ".py",
   "mimetype": "text/x-python",
   "name": "python",
   "nbconvert_exporter": "python",
   "pygments_lexer": "ipython3",
   "version": "3.9.13"
  }
 },
 "nbformat": 4,
 "nbformat_minor": 5
}
